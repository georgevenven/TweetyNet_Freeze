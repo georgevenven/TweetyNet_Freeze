{
  "cells": [
    {
      "cell_type": "markdown",
      "metadata": {
        "id": "view-in-github",
        "colab_type": "text"
      },
      "source": [
        "<a href=\"https://colab.research.google.com/github/georgevenven/TweetyNet_Freeze/blob/master/TweetyNet.ipynb\" target=\"_parent\"><img src=\"https://colab.research.google.com/assets/colab-badge.svg\" alt=\"Open In Colab\"/></a>"
      ]
    },
    {
      "cell_type": "code",
      "execution_count": null,
      "metadata": {
        "colab": {
          "base_uri": "https://localhost:8080/"
        },
        "id": "8-nYL0G0zahE",
        "outputId": "4ccc9a6c-f4a5-4d5e-bfca-dfe6111e055c"
      },
      "outputs": [
        {
          "name": "stdout",
          "output_type": "stream",
          "text": [
            "Mounted at /content/drive\n"
          ]
        }
      ],
      "source": [
        "from google.colab import drive\n",
        "drive.mount('/content/drive')"
      ]
    },
    {
      "cell_type": "code",
      "execution_count": null,
      "metadata": {
        "id": "bGjEOhKJgUsd"
      },
      "outputs": [],
      "source": [
        "!unzip \"/content/drive/MyDrive/AviaBERT_Data/llb3_data_matrices.zip\" -d \"content/\"\n"
      ]
    },
    {
      "cell_type": "code",
      "execution_count": null,
      "metadata": {
        "id": "bFqd_OmQilbO"
      },
      "outputs": [],
      "source": [
        "# Directory and train-test split ratio\n",
        "dir = \"/content/content/llb3_data_matrices\"\n",
        "train_dir = \"/content/content/train\"\n",
        "test_dir = \"/content/content/test\"\n",
        "train_ratio = 0.8"
      ]
    },
    {
      "cell_type": "code",
      "execution_count": null,
      "metadata": {
        "id": "YsRNPgD0d49-"
      },
      "outputs": [],
      "source": [
        "# import pytorch\n",
        "import torch\n",
        "import torch.nn as nn\n",
        "import torch.nn.functional as F\n",
        "import torch.optim as optim\n",
        "from torch.utils.data import DataLoader\n",
        "from torch.utils.data import Dataset\n",
        "# import torchvision\n",
        "import torchvision\n",
        "import torchvision.transforms as transforms\n",
        "import os\n",
        "import numpy as np\n",
        "import glob\n",
        "import matplotlib.pyplot as plt"
      ]
    },
    {
      "cell_type": "code",
      "execution_count": null,
      "metadata": {
        "id": "n8fnEKUTjHFX"
      },
      "outputs": [],
      "source": [
        "import os\n",
        "import random\n",
        "import shutil\n",
        "\n",
        "# List files in directory\n",
        "files = os.listdir(dir)\n",
        "\n",
        "# Move files based on random decision\n",
        "for file in files:\n",
        "    if file.endswith(\"npz\"):\n",
        "        dest_dir = train_dir if random.uniform(0, 1) < train_ratio else test_dir\n",
        "\n",
        "        # Check if file exists in the destination directory and generate a new name if necessary\n",
        "        new_name = file\n",
        "        counter = 1\n",
        "        while os.path.exists(os.path.join(dest_dir, new_name)):\n",
        "            new_name = f\"{os.path.splitext(file)[0]}_{counter}.npz\"\n",
        "            counter += 1\n",
        "\n",
        "        shutil.move(os.path.join(dir, file), os.path.join(dest_dir, new_name))"
      ]
    },
    {
      "cell_type": "code",
      "execution_count": null,
      "metadata": {
        "id": "og2YPLGtd4-D"
      },
      "outputs": [],
      "source": [
        "class SongDataSet_Image(Dataset):\n",
        "    def __init__(self, file_dir, time_bins=370, n_classes=21, overlap=0.5):\n",
        "        self.time_bins = time_bins\n",
        "        self.slices_info = []  # To store (filename, start_index) tuples\n",
        "        self.file_dir = file_dir\n",
        "        self.stride = int(self.time_bins * (1 - overlap))\n",
        "\n",
        "        for file in os.listdir(self.file_dir):\n",
        "            if file.endswith('.npz'):\n",
        "                file_path = os.path.join(self.file_dir, file)\n",
        "                if os.path.exists(file_path):\n",
        "                    data = np.load(file_path)\n",
        "                    spectogram = data['s']\n",
        "                    length = spectogram.shape[-1]\n",
        "\n",
        "                    # Loop through the song and append all possible slices\n",
        "                    for start_index in range(0, length - self.time_bins + 1, self.stride):\n",
        "                        self.slices_info.append((file_path, start_index))\n",
        "\n",
        "        # If n_classes is provided, use it. Otherwise, infer from the data.\n",
        "        self.n_classes = n_classes\n",
        "\n",
        "\n",
        "    def __getitem__(self, index):\n",
        "        file_path, start_index = self.slices_info[index]\n",
        "\n",
        "        data = np.load(file_path)\n",
        "        spectogram = data['s']\n",
        "        # 8 to 159 truncates un needed freq\n",
        "        spectogram = spectogram[8:159, start_index:start_index+self.time_bins]\n",
        "        label = data['labels']\n",
        "        label = label[:, start_index:start_index+self.time_bins]\n",
        "\n",
        "        # Convert label to one-hot encoding\n",
        "        label = torch.tensor(label, dtype=torch.int64)\n",
        "        label = F.one_hot(label, num_classes=self.n_classes)\n",
        "\n",
        "        # Convert to torch tensors\n",
        "        spectogram = torch.from_numpy(spectogram).float().unsqueeze(0)\n",
        "        label = label.float()  # Convert one-hot encoded labels to float tensor\n",
        "\n",
        "        filename = os.path.basename(file_path)\n",
        "        return spectogram, label, filename\n",
        "\n",
        "    def __len__(self):\n",
        "        return len(self.slices_info)\n"
      ]
    },
    {
      "cell_type": "code",
      "execution_count": null,
      "metadata": {
        "id": "z_GP_y7Pd4-E"
      },
      "outputs": [],
      "source": [
        "train_dataset = SongDataSet_Image(train_dir)\n",
        "test_dataset = SongDataSet_Image(test_dir)\n",
        "train_loader = DataLoader(train_dataset, batch_size=32, shuffle=True)\n",
        "test_loader = DataLoader(test_dataset, batch_size=32, shuffle=True)"
      ]
    },
    {
      "cell_type": "markdown",
      "metadata": {
        "id": "VCXHcRjId4-G"
      },
      "source": [
        "## Model"
      ]
    },
    {
      "cell_type": "code",
      "execution_count": null,
      "metadata": {
        "id": "5YhzUKFZd4-G"
      },
      "outputs": [],
      "source": [
        "class Conv2dTF(nn.Conv2d):\n",
        "\n",
        "    PADDING_METHODS = ('VALID', 'SAME')\n",
        "\n",
        "    \"\"\"Conv2d with padding behavior from Tensorflow\n",
        "    adapted from\n",
        "    https://github.com/mlperf/inference/blob/16a5661eea8f0545e04c86029362e22113c2ec09/others/edge/object_detection/ssd_mobilenet/pytorch/utils.py#L40\n",
        "    as referenced in this issue:\n",
        "    https://github.com/pytorch/pytorch/issues/3867#issuecomment-507025011\n",
        "    used to maintain behavior of original implementation of TweetyNet that used Tensorflow 1.0 low-level API\n",
        "    \"\"\"\n",
        "    def __init__(self, *args, **kwargs):\n",
        "        # remove 'padding' from ``kwargs`` to avoid bug in ``torch`` => 1.7.2\n",
        "        # see https://github.com/yardencsGitHub/tweetynet/issues/166\n",
        "        kwargs_super = {k: v for k, v in kwargs.items() if k != 'padding'}\n",
        "        super(Conv2dTF, self).__init__(*args, **kwargs_super)\n",
        "        padding = kwargs.get(\"padding\", \"SAME\")\n",
        "        if not isinstance(padding, str):\n",
        "            raise TypeError(f\"value for 'padding' argument should be a string, one of: {self.PADDING_METHODS}\")\n",
        "        padding = padding.upper()\n",
        "        if padding not in self.PADDING_METHODS:\n",
        "            raise ValueError(\n",
        "                f\"value for 'padding' argument must be one of '{self.PADDING_METHODS}' but was: {padding}\"\n",
        "            )\n",
        "        self.padding = padding\n",
        "\n",
        "    def _compute_padding(self, input, dim):\n",
        "        input_size = input.size(dim + 2)\n",
        "        filter_size = self.weight.size(dim + 2)\n",
        "        effective_filter_size = (filter_size - 1) * self.dilation[dim] + 1\n",
        "        out_size = (input_size + self.stride[dim] - 1) // self.stride[dim]\n",
        "        total_padding = max(\n",
        "            0, (out_size - 1) * self.stride[dim] + effective_filter_size - input_size\n",
        "        )\n",
        "        additional_padding = int(total_padding % 2 != 0)\n",
        "\n",
        "        return additional_padding, total_padding\n",
        "\n",
        "    def forward(self, input):\n",
        "        if self.padding == \"VALID\":\n",
        "            return F.conv2d(\n",
        "                input,\n",
        "                self.weight,\n",
        "                self.bias,\n",
        "                self.stride,\n",
        "                padding=0,\n",
        "                dilation=self.dilation,\n",
        "                groups=self.groups,\n",
        "            )\n",
        "        elif self.padding == \"SAME\":\n",
        "            rows_odd, padding_rows = self._compute_padding(input, dim=0)\n",
        "            cols_odd, padding_cols = self._compute_padding(input, dim=1)\n",
        "            if rows_odd or cols_odd:\n",
        "                input = F.pad(input, [0, cols_odd, 0, rows_odd])\n",
        "\n",
        "            return F.conv2d(\n",
        "                input,\n",
        "                self.weight,\n",
        "                self.bias,\n",
        "                self.stride,\n",
        "                padding=(padding_rows // 2, padding_cols // 2),\n",
        "                dilation=self.dilation,\n",
        "                groups=self.groups,\n",
        "            )\n",
        "\n",
        "class TweetyNet(nn.Module):\n",
        "    def __init__(self,\n",
        "                 num_classes,\n",
        "                 input_shape=(1, 151, 370),\n",
        "                 padding='SAME',\n",
        "                 conv1_filters=32,\n",
        "                 conv1_kernel_size=(5, 5),\n",
        "                 conv2_filters=64,\n",
        "                 conv2_kernel_size=(5, 5),\n",
        "                 pool1_size=(8, 1),\n",
        "                 pool1_stride=(8, 1),\n",
        "                 pool2_size=(8, 1),\n",
        "                 pool2_stride=(8, 1),\n",
        "                 hidden_size=None,\n",
        "                 rnn_dropout=0.,\n",
        "                 num_layers=1,\n",
        "                 bidirectional=True,\n",
        "                 ):\n",
        "        \"\"\"initialize TweetyNet model\n",
        "        Parameters\n",
        "        ----------\n",
        "        num_classes : int\n",
        "            number of classes to predict, e.g., number of syllable classes in an individual bird's song\n",
        "        input_shape : tuple\n",
        "            with 3 elements corresponding to dimensions of spectrogram windows: (channels, frequency bins, time bins).\n",
        "            i.e. we assume input is a spectrogram and treat it like an image, typically with one channel,\n",
        "            the rows are frequency bins, and the columns are time bins. Default is (1, 513, 88).\n",
        "        padding : str\n",
        "            type of padding to use, one of {\"VALID\", \"SAME\"}. Default is \"SAME\".\n",
        "        conv1_filters : int\n",
        "            Number of filters in first convolutional layer. Default is 32.\n",
        "        conv1_kernel_size : tuple\n",
        "            Size of kernels, i.e. filters, in first convolutional layer. Default is (5, 5).\n",
        "        conv2_filters : int\n",
        "            Number of filters in second convolutional layer. Default is 64.\n",
        "        conv2_kernel_size : tuple\n",
        "            Size of kernels, i.e. filters, in second convolutional layer. Default is (5, 5).\n",
        "        pool1_size : two element tuple of ints    specs = self.transform(specs)\n",
        "\n",
        "            Size of sliding window for first max pooling layer. Default is (1, 8)\n",
        "        pool1_stride : two element tuple of ints\n",
        "            Step size for sliding window of first max pooling layer. Default is (1, 8)\n",
        "        pool2_size : two element tuple of ints\n",
        "            Size of sliding window for second max pooling layer. Default is (1, 8),\n",
        "        pool2_stride : two element tuple of ints\n",
        "            Step size for sliding window of second max pooling layer. Default is (1, 8)\n",
        "        hidden_size : int\n",
        "            number of features in the hidden state ``h``. Default is None,\n",
        "            in which case ``hidden_size`` is set to the dimensionality of the\n",
        "            output of the convolutional neural network. This default maintains\n",
        "            the original behavior of the network.\n",
        "        rnn_dropout : float\n",
        "            If non-zero, introduces a Dropout layer on the outputs of each LSTM layer except the last layer,\n",
        "            with dropout probability equal to dropout. Default: 0\n",
        "        num_layers : int\n",
        "            Number of recurrent layers. Default is 1.\n",
        "        bidirectional : bool\n",
        "            If True, make LSTM bidirectional. Default is True.\n",
        "        \"\"\"\n",
        "        super().__init__()\n",
        "        self.num_classes = num_classes\n",
        "        self.input_shape = input_shape\n",
        "\n",
        "        self.cnn = nn.Sequential(\n",
        "            Conv2dTF(in_channels=self.input_shape[0],\n",
        "                     out_channels=conv1_filters,\n",
        "                     kernel_size=conv1_kernel_size,\n",
        "                     padding=padding\n",
        "                     ),\n",
        "            nn.ReLU(inplace=True),\n",
        "            nn.MaxPool2d(kernel_size=pool1_size,\n",
        "                         stride=pool1_stride),\n",
        "            Conv2dTF(in_channels=conv1_filters,\n",
        "                     out_channels=conv2_filters,\n",
        "                     kernel_size=conv2_kernel_size,\n",
        "                     padding=padding,\n",
        "                     ),\n",
        "            nn.ReLU(inplace=True),\n",
        "            nn.MaxPool2d(kernel_size=pool2_size,\n",
        "                         stride=pool2_stride),\n",
        "        )\n",
        "\n",
        "        # determine number of features in output after stacking channels\n",
        "        # we use the same number of features for hidden states\n",
        "        # note self.num_hidden is also used to reshape output of cnn in self.forward method\n",
        "        batch_shape = tuple((1,) + input_shape)\n",
        "        tmp_tensor = torch.rand(batch_shape)\n",
        "        tmp_out = self.cnn(tmp_tensor)\n",
        "        channels_out, freqbins_out = tmp_out.shape[1], tmp_out.shape[2]\n",
        "        self.rnn_input_size = channels_out * freqbins_out\n",
        "\n",
        "        if hidden_size is None:\n",
        "            self.hidden_size = self.rnn_input_size\n",
        "        else:\n",
        "            self.hidden_size = hidden_size\n",
        "\n",
        "        self.rnn = nn.LSTM(input_size=self.rnn_input_size,\n",
        "                           hidden_size=self.hidden_size,\n",
        "                           num_layers=num_layers,\n",
        "                           dropout=rnn_dropout,\n",
        "                           bidirectional=bidirectional)\n",
        "\n",
        "        # for self.fc, in_features = hidden_size * 2 because LSTM is bidirectional\n",
        "        # so we get hidden forward + hidden backward as output\n",
        "        self.fc = nn.Linear(in_features=self.hidden_size * 2, out_features=num_classes)\n",
        "\n",
        "    def forward(self, x):\n",
        "        features = self.cnn(x)\n",
        "        # stack channels, to give tensor shape (batch, rnn_input_size, num time bins)\n",
        "        features = features.view(features.shape[0], self.rnn_input_size, -1)\n",
        "        # switch dimensions for feeding to rnn, to (num time bins, batch size, input size)\n",
        "        features = features.permute(2, 0, 1)\n",
        "        rnn_output, _ = self.rnn(features)\n",
        "        # permute back to (batch, time bins, hidden size) to project features down onto number of classes\n",
        "        rnn_output = rnn_output.permute(1, 0, 2)\n",
        "        logits = self.fc(rnn_output)\n",
        "        # permute yet again so that dimension order is (batch, classes, time steps)\n",
        "        # because this is order that loss function expects\n",
        "        return logits.permute(0, 2, 1)\n",
        "\n",
        "    def loss_function(self, y_pred, y_true):\n",
        "        \"\"\"loss function for TweetyNet\n",
        "        Parameters\n",
        "        ----------\n",
        "        y_pred : torch.Tensor\n",
        "            output of TweetyNet model, shape (batch, classes, timebins)\n",
        "        y_true : torch.Tensor\n",
        "            one-hot encoded labels, shape (batch, classes, timebins)\n",
        "        Returns\n",
        "        -------\n",
        "        loss : torch.Tensor\n",
        "            mean cross entropy loss\n",
        "        \"\"\"\n",
        "        loss = nn.CrossEntropyLoss()\n",
        "        return loss(y_pred, y_true)"
      ]
    },
    {
      "cell_type": "code",
      "execution_count": null,
      "metadata": {
        "colab": {
          "base_uri": "https://localhost:8080/"
        },
        "id": "gnwTdxC4lzdo",
        "outputId": "62d1d1dd-faca-40e2-e2fb-e1f1c73c3d3a"
      },
      "outputs": [
        {
          "name": "stdout",
          "output_type": "stream",
          "text": [
            "cuda:0\n",
            "Number of parameters: 321685\n"
          ]
        }
      ],
      "source": [
        "model = TweetyNet(num_classes=21, input_shape=(1, 151, 370))\n",
        "use_gpu = True\n",
        "device = torch.device(\"cuda:0\" if use_gpu and torch.cuda.is_available() else \"cpu\")\n",
        "print(device)\n",
        "model = model.to(device)\n",
        "\n",
        "num_params = sum(p.numel() for p in model.parameters() if p.requires_grad)\n",
        "print('Number of parameters: %d' % num_params)\n",
        "\n",
        "optimizer = torch.optim.Adam(params=model.parameters(), lr=1e-2, weight_decay=0.0)\n",
        "\n",
        "epochs = 50"
      ]
    },
    {
      "cell_type": "code",
      "execution_count": null,
      "metadata": {
        "id": "AD3kw_vld4-H"
      },
      "outputs": [],
      "source": [
        "def frame_error_rate(y_pred, y_true):\n",
        "    \"\"\"\n",
        "    Compute the frame error rate.\n",
        "    y_pred: Tensor of shape (batch_size, time_steps, num_classes) - typically the output of a softmax\n",
        "    y_true: Tensor of shape (batch_size, time_steps, num_classes) - ground truth labels\n",
        "    Returns the frame error rate.\n",
        "    \"\"\"\n",
        "\n",
        "    predicted_labels = y_pred.argmax(dim=-2)\n",
        "    mismatches = (predicted_labels != y_true.argmax(dim=-2)).float()\n",
        "    error = mismatches.sum() / y_true.size(0) / y_true.size(2)\n",
        "    return error * 100  # return error as percentage\n",
        "\n",
        "# Modify the validation function to also compute and return the frame error rate\n",
        "def validate_model(model, test_loader):\n",
        "    model.eval()\n",
        "    total_val_loss = 0\n",
        "    total_frame_error = 0\n",
        "    num_val_batches = 0\n",
        "    with torch.no_grad():\n",
        "        for i, (waveform, label, file_name) in enumerate(test_loader):\n",
        "            if i > 10:\n",
        "              break\n",
        "            waveform = waveform.to(device)\n",
        "            label = label.to(device)\n",
        "\n",
        "            output = model.forward(waveform)\n",
        "            label = label.squeeze(1)\n",
        "            label = label.permute(0,2,1)\n",
        "\n",
        "            # Argmax bc CE does not take one hot\n",
        "            label_indices = label.argmax(dim=-2)\n",
        "            loss = model.loss_function(y_pred=output, y_true=label_indices)\n",
        "\n",
        "            total_val_loss += loss.item()\n",
        "            total_frame_error += frame_error_rate(output, label).item()\n",
        "            num_val_batches += 1\n",
        "\n",
        "    return total_val_loss / num_val_batches, total_frame_error / num_val_batches\n",
        "\n",
        "# In your training loop, when you call the validate_model, you'll now get both loss and frame error:\n",
        "initial_val_loss, initial_frame_error = validate_model(model, test_loader)\n",
        "print(f'Initial Validation Loss: {initial_val_loss:.2e}, Initial Frame Error Rate: {initial_frame_error:.2f}%')\n",
        "\n",
        "loss_list = []\n",
        "val_loss_list = []\n",
        "\n",
        "for epoch in range(epochs):\n",
        "    total_loss = 0\n",
        "    num_batches = 0\n",
        "\n",
        "    # Training Loop\n",
        "    model.train()\n",
        "    for i, (waveform, label, file_name) in enumerate(train_loader):\n",
        "        if i > 10:\n",
        "          break\n",
        "        waveform = waveform.to(device)\n",
        "\n",
        "        label = label.to(device)\n",
        "\n",
        "        output = model.forward(waveform)\n",
        "        label = label.squeeze(1)\n",
        "        label = label.permute(0,2,1)\n",
        "\n",
        "        # Argmax bc CE does not take one hot\n",
        "        label_indices = label.argmax(dim=-2)\n",
        "        loss = model.loss_function(y_pred=output, y_true=label_indices)\n",
        "\n",
        "        optimizer.zero_grad()\n",
        "        loss.backward()\n",
        "        optimizer.step()\n",
        "\n",
        "        total_loss += loss.item()\n",
        "        num_batches += 1\n",
        "\n",
        "    avg_train_loss = total_loss / num_batches\n",
        "    loss_list.append(avg_train_loss)\n",
        "\n",
        "    avg_val_loss, avg_frame_error = validate_model(model, test_loader)\n",
        "    val_loss_list.append(avg_val_loss)\n",
        "    print(f'Epoch [{epoch+1}/{epochs}], Training Loss: {avg_train_loss:.2e}, Validation Loss: {avg_val_loss:.2e}, Frame Error Rate: {avg_frame_error:.2f}%')\n",
        "\n",
        "# print loss curve\n",
        "plt.plot(loss_list, label='Training Loss')\n",
        "plt.plot(val_loss_list, label='Validation Loss')\n",
        "plt.legend()\n",
        "plt.show()\n",
        "\n",
        "print(f\"final loss {loss_list[-1]}\")"
      ]
    },
    {
      "cell_type": "markdown",
      "metadata": {
        "id": "Fu_61_ADd4-I"
      },
      "source": [
        "## UMAP and Analysis"
      ]
    },
    {
      "cell_type": "code",
      "execution_count": null,
      "metadata": {
        "colab": {
          "background_save": true
        },
        "id": "CYjCVDHbd4-I"
      },
      "outputs": [],
      "source": [
        "import pickle\n",
        "\n",
        "predictions_arr = []\n",
        "targets = []\n",
        "batch_limit = 667\n",
        "\n",
        "colors = '/content/category_colors.pkl'\n",
        "\n",
        "for i, (data, target, file_name) in enumerate(train_loader):\n",
        "    if i > batch_limit:\n",
        "      break\n",
        "\n",
        "    predictions = model(data.to(device))\n",
        "    predictions = predictions[:,:,:100]\n",
        "    target = target[:,:,:100]\n",
        "    predictions = predictions.flatten(1,2)\n",
        "    target = torch.argmax(target, dim=-1)\n",
        "    target = target.squeeze(1)\n",
        "\n",
        "    predictions_arr.append(predictions.detach().cpu().numpy())\n",
        "    targets.append(target.cpu().numpy())\n",
        "\n",
        "np.save(\"targets_arr\", targets)\n",
        "np.save(\"predictions_arr\", predictions_arr)"
      ]
    },
    {
      "cell_type": "code",
      "execution_count": null,
      "metadata": {
        "id": "cVj_nyxm0pLu"
      },
      "outputs": [],
      "source": [
        "!pip install umap-learn"
      ]
    },
    {
      "cell_type": "code",
      "execution_count": null,
      "metadata": {
        "colab": {
          "background_save": true
        },
        "id": "XyT2IvAQd4-I",
        "outputId": "c2593a9e-6d92-4a7b-9205-605a333c5e9c"
      },
      "outputs": [
        {
          "name": "stdout",
          "output_type": "stream",
          "text": [
            "labels shape(21376, 100)\n",
            "outputs shape(21376, 2100)\n"
          ]
        },
        {
          "data": {
            "image/png": "[encoded data removed]",
            "text/plain": [
              "<Figure size 640x480 with 1 Axes>"
            ]
          },
          "metadata": {},
          "output_type": "display_data"
        }
      ],
      "source": [
        "import umap.umap_ as umap\n",
        "\n",
        "# Load the color map data from the pickle file\n",
        "file_path = '/content/category_colors.pkl'\n",
        "\n",
        "with open(file_path, 'rb') as file:\n",
        "    color_map_data = pickle.load(file)\n",
        "\n",
        "# Convert your color_map_data values to a format suitable for matplotlib\n",
        "label_to_color = {label: tuple(color) for label, color in color_map_data.items()}\n",
        "\n",
        "predictions = np.load(\"/content/predictions_arr.npy\", allow_pickle=True)\n",
        "labels = np.load(\"/content/targets_arr.npy\", allow_pickle=True)\n",
        "\n",
        "predictions = np.concatenate([prediction for prediction in predictions], axis=0)\n",
        "labels = np.concatenate([label for label in labels], axis=0)\n",
        "\n",
        "print(f\"labels shape{labels.shape}\")\n",
        "print(f\"outputs shape{predictions.shape}\")\n",
        "\n",
        "colors_for_points = []\n",
        "\n",
        "for label_row in labels:\n",
        "    row_colors = [label_to_color[int(lbl)] for lbl in label_row]\n",
        "    avg_color = np.mean(row_colors, axis=0)\n",
        "    colors_for_points.append(avg_color)\n",
        "\n",
        "colors_for_points = np.array(colors_for_points)\n",
        "\n",
        "# UMAP projection of the HuBERT embeddings\n",
        "reducer = umap.UMAP(random_state=42, n_neighbors=20, min_dist=0.1, n_components=2, metric='euclidean')\n",
        "embedding_outputs = reducer.fit_transform(predictions)\n",
        "plt.scatter(embedding_outputs[:, 0], embedding_outputs[:, 1], s=5, c=colors_for_points)\n",
        "plt.title('UMAP projection of the Projection', fontsize=24)\n",
        "plt.show()"
      ]
    },
    {
      "cell_type": "code",
      "execution_count": null,
      "metadata": {
        "id": "ZUkRFMgrd4-I",
        "outputId": "d1acb9e4-e137-4c87-acf3-e7b88b1e5ed1"
      },
      "outputs": [
        {
          "ename": "",
          "evalue": "",
          "output_type": "error",
          "traceback": [
            "\u001b[1;31mFailed to start the Kernel. \n",
            "\u001b[1;31mOSError: [Errno 28] No space left on device. \n",
            "\u001b[1;31mView Jupyter <a href='command:jupyter.viewOutput'>log</a> for further details."
          ]
        }
      ],
      "source": [
        "from bokeh.plotting import figure, show, output_file, save\n",
        "from bokeh.models import HoverTool, ColumnDataSource\n",
        "import pickle\n",
        "import pandas as pd\n",
        "import numpy as np\n",
        "from PIL import Image\n",
        "import base64\n",
        "import io\n",
        "from io import BytesIO\n",
        "\n",
        "\n",
        "def embeddable_image(data):\n",
        "    data = (data * 255).astype(np.uint8)\n",
        "    # convert to uint8\n",
        "    data = np.uint8(data)\n",
        "    image = Image.fromarray(data)\n",
        "    image = image.convert('RGB')\n",
        "    # show PIL image\n",
        "    im_file = BytesIO()\n",
        "    img_save = image.save(im_file, format='PNG')\n",
        "    im_bytes = im_file.getvalue()\n",
        "\n",
        "    img_str = \"data:image/png;base64,\" + base64.b64encode(im_bytes).decode()\n",
        "    return img_str\n",
        "\n",
        "# Specify an HTML file to save the Bokeh image to.\n",
        "output_file(filename='umap.html')\n",
        "\n",
        "spec_df = pd.DataFrame(embedding, columns=('x', 'y'))\n",
        "\n",
        "# Create a ColumnDataSource from the data. This contains the UMAP embedding components and the mean colors per mini-spectrogram\n",
        "source = ColumnDataSource(data=dict(x=embedding[:, 0], y=embedding[:, 1], colors=color_arr[]))\n",
        "\n",
        "# Create a figure and add a scatter plot\n",
        "p = figure(width=800, height=600, tools=('pan, box_zoom, hover, reset'))\n",
        "p.scatter(x='x', y='y', size=5, color='colors', source=source)\n",
        "\n",
        "# Set the image path for each data point\n",
        "source.data['image1'] = []\n",
        "\n",
        "for i,row in enumerate(images):\n",
        "    image1 = embeddable_image(row)\n",
        "    source.data['image1'].append(image1)\n",
        "\n",
        "hover = p.select(dict(type=HoverTool))\n",
        "hover.tooltips = \"\"\"\n",
        "    <div>\n",
        "        <h3>@x, @y</h3>\n",
        "        <div>\n",
        "            <img\n",
        "                src=\"@image1\" height=\"100\" alt=\"@image1\" width=\"100\"\n",
        "                style=\"float: left; margin: 0px 15px 15px 0px;\"\n",
        "                border=\"2\"\n",
        "            ></img>\n",
        "        </div>\n",
        "    </div>\n",
        "\"\"\"\n",
        "\n",
        "p.add_tools(HoverTool(tooltips=\"\"\"\n",
        "\"\"\"))\n",
        "\n",
        "save(p)\n",
        "\n"
      ]
    }
  ],
  "metadata": {
    "accelerator": "GPU",
    "colab": {
      "machine_shape": "hm",
      "provenance": [],
      "include_colab_link": true
    },
    "kernelspec": {
      "display_name": "Python 3",
      "name": "python3"
    },
    "language_info": {
      "codemirror_mode": {
        "name": "ipython",
        "version": 3
      },
      "file_extension": ".py",
      "mimetype": "text/x-python",
      "name": "python",
      "nbconvert_exporter": "python",
      "pygments_lexer": "ipython3",
      "version": "3.11.0"
    }
  },
  "nbformat": 4,
  "nbformat_minor": 0
}